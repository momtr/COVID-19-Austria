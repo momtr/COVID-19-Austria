{
 "cells": [
  {
   "cell_type": "markdown",
   "metadata": {},
   "source": [
    "# Covid-19 in Austria"
   ]
  },
  {
   "cell_type": "code",
   "execution_count": 32,
   "metadata": {},
   "outputs": [],
   "source": [
    "# first we have to import numpy\n",
    "import numpy as np\n",
    "\n",
    "# we open the csv file and extract the data\n",
    "data = open(\"covid_19_austria.csv\", \"r\");\n",
    "# then we convert it into a multidimensional array\n",
    "dataset = np.loadtxt(data, delimiter=\", \")\n",
    "# we close the file\n",
    "data.close()\n",
    "\n",
    "# starts with t=0 (25.02.2020)"
   ]
  },
  {
   "cell_type": "code",
   "execution_count": 33,
   "metadata": {
    "collapsed": true
   },
   "outputs": [],
   "source": [
    "# we import random as rn\n",
    "import random as rn\n",
    "\n",
    "# we create a class exponential_model which we use later on to predict future cases\n",
    "class exponential_model:\n",
    "    \n",
    "    # in the constructor, we have one parameter that corresponds to b in the following formula:\n",
    "    #     f(x) = b * a^x\n",
    "    def __init__(self, start, size):\n",
    "        self.start = start\n",
    "        # a we initialize with a random value between 0 and 2\n",
    "        self.a = rn.random() * 2\n",
    "        # define the size\n",
    "        self.size = size\n",
    "    \n",
    "    # this function we want to use to predict cases on a given day \n",
    "    def predict(self, x):\n",
    "        return self.start * self.a ** x\n",
    "    \n",
    "    # this function is used to train the model\n",
    "    # x - time in days (t=0 on 25/02/2020)\n",
    "    # y - the absolut number of cases at time t\n",
    "    # epochs - number of epochs\n",
    "    # lr - learning rate (0 < lr < 1; [0;1])\n",
    "    # show - some debug things\n",
    "    def train(self, x, y, epochs, lr, show):\n",
    "        # we initialize epochs with 0\n",
    "        epoch = 0\n",
    "        # we execute the following code epochs-times\n",
    "        while (epoch < epochs):\n",
    "            # increment epochs by one\n",
    "            epoch += 1\n",
    "            # go through all xs\n",
    "            for i in range(self.size):\n",
    "                # if t != 0 (we cannot divide by 0)\n",
    "                if(x[i] != 0):\n",
    "                    if(show):\n",
    "                        print(str(y[i]) + \" | \" + str(x[i]))\n",
    "                    # te actual a (target a) is the x-th root of y\n",
    "                    # comes from rearranging the formula:\n",
    "                    # f(x) = b*a^x <-> y^(1 / x); where 1/x is the x-th root\n",
    "                    target_a = y[i] ** (1 / x[i])\n",
    "                    # the error is the actual a minus the current a\n",
    "                    error = target_a - self.a\n",
    "                    if(show):\n",
    "                        print(\"a=\" + str(self.a) + \", epoch: \" + str(epoch) + \", error=\" + str(error))\n",
    "                    # we have to multiply the error with the learning rate in order to get dalta a\n",
    "                    delta_a = error * lr\n",
    "                    # update the a by delta a\n",
    "                    self.a += delta_a\n",
    "                    \n",
    "    # function is used to get the mean squared error (that we want to minimize)    \n",
    "    # MSE = sum(y_target - y_predicted)^2 / number of training examples\n",
    "    def mean_squared_error(self, x, y):\n",
    "        sum = 0\n",
    "        for i in range(self.size):\n",
    "            sum += (y[i] - self.predict(x[i])) ** 2\n",
    "        return sum / self.size\n",
    "    \n",
    "    \n",
    "    # doubling time\n",
    "    def doubling_time(self):\n",
    "        return 2 ** (1 / self.a)"
   ]
  },
  {
   "cell_type": "code",
   "execution_count": 34,
   "metadata": {
    "collapsed": true
   },
   "outputs": [],
   "source": [
    "# import matplotlib.pyplot to create some figures\n",
    "import matplotlib.pyplot as plt\n",
    "\n",
    "# define x (time) and y (absolute cases)\n",
    "x = dataset[::,0]\n",
    "y = dataset[::,1]\n",
    "\n",
    "# create a figure, define axis\n",
    "figure = plt.figure(1)\n",
    "ax = figure.add_subplot(1,1,1)\n",
    "ax.scatter(x, y, c='red', s=10, alpha=.6)\n",
    "ax.set_xlabel('t in days')\n",
    "ax.set_ylabel('absolute cases')\n",
    "ax.grid(True, linestyle='-', color='0.5')"
   ]
  },
  {
   "cell_type": "code",
   "execution_count": 35,
   "metadata": {},
   "outputs": [
    {
     "name": "stdout",
     "output_type": "stream",
     "text": [
      "MSE (before training) = 31307573.4036\n"
     ]
    },
    {
     "data": {
      "image/png": "[encoded data removed]",
      "text/plain": [
       "<matplotlib.figure.Figure at 0x11478bcf8>"
      ]
     },
     "metadata": {},
     "output_type": "display_data"
    },
    {
     "name": "stdout",
     "output_type": "stream",
     "text": [
      "f(x) = 1.39293141625^x\n",
      "MSE (after training) = 18422.2941367\n"
     ]
    }
   ],
   "source": [
    "# create a new exponential_model\n",
    "model = exponential_model(1, x.size)\n",
    "\n",
    "# print mean squared error \n",
    "print(\"MSE (before training) = \" + str(model.mean_squared_error(x,y)))\n",
    "\n",
    "# train the model\n",
    "model.train(x, y, epochs=100, lr=0.9, show=False)\n",
    "\n",
    "# define the range in days \n",
    "days = range(40)\n",
    "\n",
    "# plt the graph of model's function\n",
    "plt.plot(days, model.predict(days))\n",
    "\n",
    "# show the figure\n",
    "plt.show()\n",
    "\n",
    "# print the equation of the function\n",
    "print(\"f(x) = \" + str(model.a) + \"^x\")\n",
    "\n",
    "# print the error again\n",
    "print(\"MSE (after training) = \" + str(model.mean_squared_error(x,y)))"
   ]
  },
  {
   "cell_type": "code",
   "execution_count": null,
   "metadata": {
    "collapsed": true
   },
   "outputs": [],
   "source": [
    "# Verdopplung \n",
    "model.doubling_time()"
   ]
  }
 ],
 "metadata": {
  "kernelspec": {
   "display_name": "Python 3",
   "language": "python",
   "name": "python3"
  },
  "language_info": {
   "codemirror_mode": {
    "name": "ipython",
    "version": 3
   },
   "file_extension": ".py",
   "mimetype": "text/x-python",
   "name": "python",
   "nbconvert_exporter": "python",
   "pygments_lexer": "ipython3",
   "version": "3.6.1"
  }
 },
 "nbformat": 4,
 "nbformat_minor": 2
}
